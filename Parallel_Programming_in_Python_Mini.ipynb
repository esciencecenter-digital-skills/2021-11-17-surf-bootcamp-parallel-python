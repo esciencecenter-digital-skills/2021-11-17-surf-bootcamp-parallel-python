{
  "nbformat": 4,
  "nbformat_minor": 0,
  "metadata": {
    "colab": {
      "name": "Parallel Programming in Python - Mini.ipynb",
      "provenance": [],
      "collapsed_sections": [],
      "authorship_tag": "ABX9TyMpjBOfDCgOysrq86piobLx",
      "include_colab_link": true
    },
    "kernelspec": {
      "name": "python3",
      "display_name": "Python 3"
    },
    "language_info": {
      "name": "python"
    }
  },
  "cells": [
    {
      "cell_type": "markdown",
      "metadata": {
        "id": "view-in-github",
        "colab_type": "text"
      },
      "source": [
        "<a href=\"https://colab.research.google.com/github/esciencecenter-digital-skills/2021-11-17-surf-bootcamp-parallel-python/blob/main/Parallel_Programming_in_Python_Mini.ipynb\" target=\"_parent\"><img src=\"https://colab.research.google.com/assets/colab-badge.svg\" alt=\"Open In Colab\"/></a>"
      ]
    },
    {
      "cell_type": "markdown",
      "metadata": {
        "id": "rNr4-U3rnVdf"
      },
      "source": [
        "# Introduction to Parallel programming\n",
        "This tutorial is a selection from the larger [workshop on Parallel Programming in Python](https://carpentries-incubator.github.io/lesson-parallel-python/) that we teach at the [Netherlands eScience Center](https://www.esciencecenter.nl/digital-skills/).\n",
        "\n",
        "Parallel programming is the utilization of multiple compute units, wether it be cores on a CPU or multiple nodes in a cluster, to perform some task faster than it would otherwise be on a single worker."
      ]
    },
    {
      "cell_type": "markdown",
      "metadata": {
        "id": "ST1BV3Lka4Sk"
      },
      "source": [
        "We can visualize a computation by creating a diagram where we see how each operation depends on previous ones. We call this directed acyclic graph (DAG) the **dependency diagram**, and we'll see a lot of them in this tutorial. Suppose we add up the numbers 1, 2, 3, 4, then one way to compute this in sequence is:\n",
        "\n",
        "![Serial computation](https://carpentries-incubator.github.io/lesson-parallel-python/fig/serial.png)\n",
        "\n",
        "Since the order of addition doesn't matter, we can also do this in parallel:\n",
        "\n",
        "![Parallel computation](https://carpentries-incubator.github.io/lesson-parallel-python/fig/parallel.png)\n",
        "\n",
        "In this instance we could divide the work among two workers and be (almost) twice as fast. Here what we mean by *worker* is either a node on a cluster or a core on a CPU. We need to make the distinction between workers in a **shared-memory** or **distributed-memory** architectures. In the case of distributed memory, like on a HPC cluster where you use multiple nodes, you need to worry about communicating intermediate results between nodes. This will give overhead that you need to worry about, both in terms of programming and performance.\n",
        "\n",
        "![Memory architectures](https://carpentries-incubator.github.io/lesson-parallel-python/fig/memory-architecture.svg)\n",
        "\n",
        "In this tutorial we will show how you can do this in Python using Dask and Numba. We will focus on creating parallel programs that perform well on shared-memory architectures, for example a multi-core laptop or a node on your local HPC cluster.\n",
        "\n",
        "\n",
        "Let's see how many cores we have available:"
      ]
    },
    {
      "cell_type": "code",
      "metadata": {
        "id": "u5BNDT5IeBNM",
        "colab": {
          "base_uri": "https://localhost:8080/"
        },
        "outputId": "5f80bf71-5188-487f-dce8-556d13e38c92"
      },
      "source": [
        "import psutil\n",
        "N_physical_cores = psutil.cpu_count(logical=False)\n",
        "N_logical_cores = psutil.cpu_count(logical=True)\n",
        "print(f\"The number of physical/logical cores is {N_physical_cores}/{N_logical_cores}\")"
      ],
      "execution_count": null,
      "outputs": [
        {
          "output_type": "stream",
          "name": "stdout",
          "text": [
            "The number of physical/logical cores is 1/2\n"
          ]
        }
      ]
    },
    {
      "cell_type": "markdown",
      "metadata": {
        "id": "aFnhZI4D5yb4"
      },
      "source": [
        "For most of you, the number of logical cores will be twice the number of physical cores. This is due to a CPU feature known as [hyper-threading](https://en.wikipedia.org/wiki/Hyper-threading). This feature will give speed-ups for some tasks but usually not so much for heavy numeric work. It is important to keep that in mind when choosing how many parallel threads to start."
      ]
    },
    {
      "cell_type": "markdown",
      "metadata": {
        "id": "m8Z6FH54nmML"
      },
      "source": [
        "# Computing $\\pi$\n",
        "\n",
        "In order to recognize the advantages of parallelization we need an algorithm that is easy to parallelize, but still complex enough to take a few seconds of CPU time. To not scare away the interested reader, we need this algorithm to be understandable and, if possible, also interesting. We chose a classical algorithm for demonstrating parallel programming: estimating the value of number π."
      ]
    },
    {
      "cell_type": "markdown",
      "metadata": {
        "id": "vglL59u9bano"
      },
      "source": [
        "The algorithm we present is one of the classical examples of the power of Monte-Carlo methods. This is an umbrella term for several algorithms that use random numbers to approximate exact results. We chose this algorithm because of its simplicity and straightforward geometrical interpretation.\n",
        "\n",
        "We can compute the value of π using a random number generator. We count the points falling inside the blue circle M compared to the green square N. Then π is approximated by the ratio 4M/N.\n",
        "\n",
        "![Computing Pi](https://carpentries-incubator.github.io/lesson-parallel-python/fig/calc_pi_3_wide.svg)"
      ]
    },
    {
      "cell_type": "markdown",
      "metadata": {
        "id": "7ufwSoZ9cC15"
      },
      "source": [
        "## Exercise 1\n",
        "Use only standard Python and the function `random.uniform`. The function should have the following interface:\n",
        "\n",
        "```python\n",
        "import random\n",
        "def calc_pi(N):\n",
        "    \"\"\"Computes the value of pi using N random samples.\"\"\"\n",
        "    ...\n",
        "    for i in range(N):\n",
        "        # take a sample\n",
        "        ...\n",
        "    return ...\n",
        "```\n",
        "\n",
        "Can you explain why this implementation is so slow?"
      ]
    },
    {
      "cell_type": "markdown",
      "metadata": {
        "id": "cIRDvXHychyU"
      },
      "source": [
        "## A Vectorized version in NumPy\n",
        "\n",
        "We cannot talk about parallel programming without first making our implementation a bit faster. After all, what use is it to parallelise our code when we can gain much more in performance by other means?\n",
        "\n",
        "The secret of optimizing Python code and later also when it comes to parallelisation, is to take things away from Python. Even as a scripting language Python was never designed for efficiency, rather it is a glue language, telling how to use and combine more efficient lower level routines, a bit like a puppet player.\n",
        "\n",
        "You may already be familiar with optimizing a Python program by rewriting it in a **vectorized** form using NumPy."
      ]
    },
    {
      "cell_type": "code",
      "metadata": {
        "id": "VOcQ3DPNb2aA"
      },
      "source": [
        "import numpy as np\n",
        "\n",
        "def calc_pi_numpy(N):\n",
        "    # Simulate impact coordinates\n",
        "    pts = np.random.uniform(-1, 1, (2, N))\n",
        "    # Count number of impacts inside the circle\n",
        "    M = np.count_nonzero((pts**2).sum(axis=0) < 1)\n",
        "    return 4 * M / N"
      ],
      "execution_count": null,
      "outputs": []
    },
    {
      "cell_type": "code",
      "metadata": {
        "colab": {
          "base_uri": "https://localhost:8080/"
        },
        "id": "CdrXIpGeJf7B",
        "outputId": "a3b988cb-7ad2-4dcb-befc-769e5e72e073"
      },
      "source": [
        "calc_pi_numpy(10**8)"
      ],
      "execution_count": null,
      "outputs": [
        {
          "output_type": "execute_result",
          "data": {
            "text/plain": [
              "3.14175096"
            ]
          },
          "metadata": {},
          "execution_count": 2
        }
      ]
    },
    {
      "cell_type": "markdown",
      "metadata": {
        "id": "7TCwgA_SPBRl"
      },
      "source": [
        "The downside of this method is that it can take a lot of memory! Try running this function with a larger input size while running a system monitor (if you run this code locally). One easy way of both parallelising this function and solving the memory issue, is to use Dask Arrays. This interface mirrors most of what you can do with ordinary NumPy, and parallelises for free! **Try to guess at how to translate our `calc_pi_numpy` function to a Dask enabled function.**"
      ]
    },
    {
      "cell_type": "code",
      "metadata": {
        "id": "dXyVKG-rQM5e"
      },
      "source": [
        "from dask import array as da\n",
        "\n",
        "def calc_pi_dask(N):\n",
        "  ..."
      ],
      "execution_count": null,
      "outputs": []
    },
    {
      "cell_type": "markdown",
      "metadata": {
        "id": "YPHzP2qvQ0cy"
      },
      "source": [
        "Now if we try to run this code something strange happens:"
      ]
    },
    {
      "cell_type": "code",
      "metadata": {
        "colab": {
          "base_uri": "https://localhost:8080/",
          "height": 132
        },
        "id": "v5x4M3vdQvR_",
        "outputId": "3f106480-472b-4a6e-d4e5-79ab6b8db9ae"
      },
      "source": [
        "calc_pi_dask(10**8)"
      ],
      "execution_count": null,
      "outputs": [
        {
          "output_type": "execute_result",
          "data": {
            "text/html": [
              "<table>\n",
              "<tr>\n",
              "<td>\n",
              "<table>\n",
              "  <thead>\n",
              "    <tr><td> </td><th> Array </th><th> Chunk </th></tr>\n",
              "  </thead>\n",
              "  <tbody>\n",
              "    <tr><th> Bytes </th><td> 8 B </td> <td> 8 B </td></tr>\n",
              "    <tr><th> Shape </th><td> () </td> <td> () </td></tr>\n",
              "    <tr><th> Count </th><td> 920 Tasks </td><td> 1 Chunks </td></tr>\n",
              "    <tr><th> Type </th><td> float64 </td><td> numpy.ndarray </td></tr>\n",
              "  </tbody>\n",
              "</table>\n",
              "</td>\n",
              "<td>\n",
              "\n",
              "</td>\n",
              "</tr>\n",
              "</table>"
            ],
            "text/plain": [
              "dask.array<truediv, shape=(), dtype=float64, chunksize=(), chunktype=numpy.ndarray>"
            ]
          },
          "metadata": {},
          "execution_count": 6
        }
      ]
    },
    {
      "cell_type": "markdown",
      "metadata": {
        "id": "ACLBaFsxRRNq"
      },
      "source": [
        "We need to tell Dask explicitely that we'd like to compute our result."
      ]
    },
    {
      "cell_type": "code",
      "metadata": {
        "colab": {
          "base_uri": "https://localhost:8080/"
        },
        "id": "xVWgGPNyRXEa",
        "outputId": "f54b1d39-fae8-4d1b-9803-fcbd995d82fa"
      },
      "source": [
        "calc_pi_dask(10**8).compute()"
      ],
      "execution_count": null,
      "outputs": [
        {
          "output_type": "execute_result",
          "data": {
            "text/plain": [
              "3.14176328"
            ]
          },
          "metadata": {},
          "execution_count": 8
        }
      ]
    },
    {
      "cell_type": "markdown",
      "metadata": {
        "id": "zr52C85tTXTT"
      },
      "source": [
        "We can actually do much better than that. Let's try Numba. Numba is a **just-in-time** compiler for a subset of Python. You can have it compile parts of your Python code to machine code. For simple operations it is as easy as pasting the `@numba.jit` decorator in front of your function definition. **Use it on your first pure Python implementation of `calc_pi`.**"
      ]
    },
    {
      "cell_type": "code",
      "metadata": {
        "id": "ink8kAHQVPuY"
      },
      "source": [
        "import numba\n",
        "import random\n",
        "\n",
        "@numba.jit(nopython=True, nogil=True)\n",
        "def calc_pi_numba(N):\n",
        "  ..."
      ],
      "execution_count": null,
      "outputs": []
    },
    {
      "cell_type": "code",
      "metadata": {
        "colab": {
          "base_uri": "https://localhost:8080/"
        },
        "id": "Za-BUxfrVhB5",
        "outputId": "63d2019a-6c94-4ac1-e4d7-dc45dc3480ca"
      },
      "source": [
        "calc_pi_numba(10**9)"
      ],
      "execution_count": null,
      "outputs": [
        {
          "output_type": "execute_result",
          "data": {
            "text/plain": [
              "3.14167996"
            ]
          },
          "metadata": {},
          "execution_count": 4
        }
      ]
    },
    {
      "cell_type": "markdown",
      "metadata": {
        "id": "YoqbULMKXoJy"
      },
      "source": [
        "Those of you that read documentation could find out that the `numba.jit` function accepts an argument `parallel=True`, but we're not going to use that since it is much more instructive to parallelise this function with Dask's `delayed` interface."
      ]
    },
    {
      "cell_type": "markdown",
      "metadata": {
        "id": "pUeN0NWyn08h"
      },
      "source": [
        "# Delayed evaluation\n",
        "The underlying concept that makes Dask tick is **delayed evaluation**. By working on delayed values (also known as promises) Dask builds a dependency diagram of your computation. When the graph is evaluated (when we call the `compute()` method), Dask automatically parallelises independent tasks."
      ]
    },
    {
      "cell_type": "code",
      "metadata": {
        "id": "3T3uXq7gZ007"
      },
      "source": [
        "from dask import delayed"
      ],
      "execution_count": 1,
      "outputs": []
    },
    {
      "cell_type": "code",
      "metadata": {
        "id": "CjM4uRCNYbmB"
      },
      "source": [
        "@delayed\n",
        "def add(a, b):\n",
        "  return a + b"
      ],
      "execution_count": 2,
      "outputs": []
    },
    {
      "cell_type": "markdown",
      "metadata": {
        "id": "VwL9me9EoyOn"
      },
      "source": [
        "It can often be helpful to annotate your code, so that you remember what values are actually promises."
      ]
    },
    {
      "cell_type": "code",
      "metadata": {
        "id": "RTPynhsfYgL1"
      },
      "source": [
        "x_p = add(1, 2)"
      ],
      "execution_count": 3,
      "outputs": []
    },
    {
      "cell_type": "code",
      "metadata": {
        "colab": {
          "base_uri": "https://localhost:8080/"
        },
        "id": "257MMgvqYn1N",
        "outputId": "56540b4f-9d8c-415e-8240-6aa5fc651683"
      },
      "source": [
        "type(x_p)"
      ],
      "execution_count": 4,
      "outputs": [
        {
          "output_type": "execute_result",
          "data": {
            "text/plain": [
              "dask.delayed.Delayed"
            ]
          },
          "metadata": {},
          "execution_count": 4
        }
      ]
    },
    {
      "cell_type": "code",
      "metadata": {
        "colab": {
          "base_uri": "https://localhost:8080/",
          "height": 190
        },
        "id": "scz19YDKZDq3",
        "outputId": "048f1296-adc3-4de2-c274-afc611eaf3ca"
      },
      "source": [
        "x_p.visualize()"
      ],
      "execution_count": 5,
      "outputs": [
        {
          "output_type": "execute_result",
          "data": {
            "image/png": "[encoded data removed]",
            "text/plain": [
              "<IPython.core.display.Image object>"
            ]
          },
          "metadata": {},
          "execution_count": 5
        }
      ]
    },
    {
      "cell_type": "markdown",
      "metadata": {
        "id": "4wXCaPhppqcX"
      },
      "source": [
        "If we use the promise as an argument to further delayed function calls, we keep getting more promises and the dependency diagram is extended."
      ]
    },
    {
      "cell_type": "code",
      "metadata": {
        "id": "WFRCAe0pZIo3"
      },
      "source": [
        "y_p = add(x_p, 3)\n",
        "z_p = add(y_p, x_p)"
      ],
      "execution_count": 6,
      "outputs": []
    },
    {
      "cell_type": "code",
      "metadata": {
        "colab": {
          "base_uri": "https://localhost:8080/",
          "height": 609
        },
        "id": "Af2wGfYuZO6w",
        "outputId": "f55e1509-47f1-4c7c-85d6-ad130522004b"
      },
      "source": [
        "z_p.visualize()"
      ],
      "execution_count": 7,
      "outputs": [
        {
          "output_type": "execute_result",
          "data": {
            "image/png": "[encoded data removed]",
            "text/plain": [
              "<IPython.core.display.Image object>"
            ]
          },
          "metadata": {},
          "execution_count": 7
        }
      ]
    },
    {
      "cell_type": "markdown",
      "metadata": {
        "id": "hXcVHOwqqd_c"
      },
      "source": [
        "## Variadic arguments\n",
        "In Python you can define functions that take arbitrary number of arguments:"
      ]
    },
    {
      "cell_type": "code",
      "metadata": {
        "colab": {
          "base_uri": "https://localhost:8080/"
        },
        "id": "wkeZ_DxLqsLi",
        "outputId": "86d3613e-fc9d-48c7-912c-79cca57c1767"
      },
      "source": [
        "def add(*args):\n",
        "  return sum(args)\n",
        "\n",
        "add(1, 2, 3, 4)"
      ],
      "execution_count": 8,
      "outputs": [
        {
          "output_type": "execute_result",
          "data": {
            "text/plain": [
              "10"
            ]
          },
          "metadata": {},
          "execution_count": 8
        }
      ]
    },
    {
      "cell_type": "markdown",
      "metadata": {
        "id": "nJlJFImxq8Es"
      },
      "source": [
        "You can use tuple-unpacking to pass a sequence of arguments:"
      ]
    },
    {
      "cell_type": "code",
      "metadata": {
        "colab": {
          "base_uri": "https://localhost:8080/"
        },
        "id": "raScvxI9rDTq",
        "outputId": "7b7bb7ec-efd0-43ac-b2fd-3630d38f4cd1"
      },
      "source": [
        "numbers = [1, 2, 3, 4]\n",
        "add(*numbers)"
      ],
      "execution_count": 9,
      "outputs": [
        {
          "output_type": "execute_result",
          "data": {
            "text/plain": [
              "10"
            ]
          },
          "metadata": {},
          "execution_count": 9
        }
      ]
    },
    {
      "cell_type": "markdown",
      "metadata": {
        "id": "ONBAMW8FrZS1"
      },
      "source": [
        "## Exercise 2\n",
        "Design a delayed function that computes the mean of its arguments:\n",
        "\n",
        "```python\n",
        ">>> mean(1, 2, 3, 4).compute()\n",
        "2.5\n",
        "```\n",
        "\n",
        "Compute a sequence of $\\pi$ approximations and compute its mean. Make sure that the entire computation is contained in a single promise:\n",
        "\n",
        "```python\n",
        "approximations = [delayed(calc_pi_numba)(10**8) for _ in range(10)]\n",
        "```\n",
        "\n",
        "Pass this list into your `mean` function such that you get back a promise of a single number. Visualise the dependency diagram."
      ]
    },
    {
      "cell_type": "code",
      "metadata": {
        "id": "CVoUtC22tebX"
      },
      "source": [
        ""
      ],
      "execution_count": null,
      "outputs": []
    }
  ]
}