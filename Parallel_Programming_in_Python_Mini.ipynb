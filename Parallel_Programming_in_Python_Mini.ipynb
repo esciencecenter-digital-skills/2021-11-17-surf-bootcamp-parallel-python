{
  "nbformat": 4,
  "nbformat_minor": 0,
  "metadata": {
    "colab": {
      "name": "Parallel Programming in Python - Mini.ipynb",
      "provenance": [],
      "authorship_tag": "ABX9TyP9d590zQwEoKdti9LclxA2",
      "include_colab_link": true
    },
    "kernelspec": {
      "name": "python3",
      "display_name": "Python 3"
    },
    "language_info": {
      "name": "python"
    }
  },
  "cells": [
    {
      "cell_type": "markdown",
      "metadata": {
        "id": "view-in-github",
        "colab_type": "text"
      },
      "source": [
        "<a href=\"https://colab.research.google.com/github/esciencecenter-digital-skills/2021-11-17-surf-bootcamp-parallel-python/blob/main/Parallel_Programming_in_Python_Mini.ipynb\" target=\"_parent\"><img src=\"https://colab.research.google.com/assets/colab-badge.svg\" alt=\"Open In Colab\"/></a>"
      ]
    },
    {
      "cell_type": "markdown",
      "metadata": {
        "id": "ST1BV3Lka4Sk"
      },
      "source": [
        "# Introduction to Parallel programming"
      ]
    },
    {
      "cell_type": "markdown",
      "metadata": {
        "id": "vglL59u9bano"
      },
      "source": [
        "# Parallelizing a Python application\n",
        "\n",
        "In order to recognize the advantages of parallelization we need an algorithm that is easy to parallelize, but still complex enough to take a few seconds of CPU time. To not scare away the interested reader, we need this algorithm to be understandable and, if possible, also interesting. We chose a classical algorithm for demonstrating parallel programming: estimating the value of number π.\n",
        "\n",
        "The algorithm we present is one of the classical examples of the power of Monte-Carlo methods. This is an umbrella term for several algorithms that use random numbers to approximate exact results. We chose this algorithm because of its simplicity and straightforward geometrical interpretation.\n",
        "\n",
        "We can compute the value of π using a random number generator. We count the points falling inside the blue circle M compared to the green square N. Then π is approximated by the ratio 4M/N.\n",
        "\n",
        "![Computing Pi](https://carpentries-incubator.github.io/lesson-parallel-python/fig/calc_pi_3_wide.svg)"
      ]
    },
    {
      "cell_type": "markdown",
      "metadata": {
        "id": "7ufwSoZ9cC15"
      },
      "source": [
        "## Exercise 1\n",
        "Use only standard Python and the function `random.uniform`. The function should have the following interface:\n",
        "\n",
        "```python\n",
        "import random\n",
        "def calc_pi(N):\n",
        "    \"\"\"Computes the value of pi using N random samples.\"\"\"\n",
        "    ...\n",
        "    for i in range(N):\n",
        "        # take a sample\n",
        "        ...\n",
        "    return ...\n",
        "```\n",
        "\n",
        "Can you explain why this implementation is so slow?"
      ]
    },
    {
      "cell_type": "markdown",
      "metadata": {
        "id": "cIRDvXHychyU"
      },
      "source": [
        "## A Vectorized version in NumPy\n",
        "\n",
        "We cannot talk about parallel programming without first making our implementation a bit faster. After all, what use is it to parallelise our code when we can gain much more in performance by other means?\n",
        "\n",
        "The secret of optimizing Python code and later also when it comes to parallelisation, is to take things away from Python. Even as a scripting language Python was never designed for efficiency, rather it is a glue language, telling how to use and combine more efficient lower level routines, a bit like a puppet player.\n",
        "\n",
        "You may already be familiar with optimizing a Python program by rewriting it in a **vectorized** form using NumPy."
      ]
    },
    {
      "cell_type": "code",
      "metadata": {
        "id": "VOcQ3DPNb2aA"
      },
      "source": [
        "import numpy as np\n",
        "\n",
        "def calc_pi_numpy(N):\n",
        "    # Simulate impact coordinates\n",
        "    pts = np.random.uniform(-1, 1, (2, N))\n",
        "    # Count number of impacts inside the circle\n",
        "    M = np.count_nonzero((pts**2).sum(axis=0) < 1)\n",
        "    return 4 * M / N"
      ],
      "execution_count": null,
      "outputs": []
    },
    {
      "cell_type": "code",
      "metadata": {
        "colab": {
          "base_uri": "https://localhost:8080/"
        },
        "id": "CdrXIpGeJf7B",
        "outputId": "a3b988cb-7ad2-4dcb-befc-769e5e72e073"
      },
      "source": [
        "calc_pi_numpy(10**8)"
      ],
      "execution_count": null,
      "outputs": [
        {
          "output_type": "execute_result",
          "data": {
            "text/plain": [
              "3.14175096"
            ]
          },
          "metadata": {},
          "execution_count": 2
        }
      ]
    },
    {
      "cell_type": "markdown",
      "metadata": {
        "id": "7TCwgA_SPBRl"
      },
      "source": [
        "The downside of this method is that it can take a lot of memory! Try running this function with a larger input size while running a system monitor (if you run this code locally). One easy way of both parallelising this function and solving the memory issue, is to use Dask Arrays. This interface mirrors most of what you can do with ordinary NumPy, and parallelises for free! **Try to guess at how to translate our `calc_pi_numpy` function to a Dask enabled function.**"
      ]
    },
    {
      "cell_type": "code",
      "metadata": {
        "id": "dXyVKG-rQM5e"
      },
      "source": [
        "from dask import array as da\n",
        "\n",
        "def calc_pi_dask(N):\n",
        "  ..."
      ],
      "execution_count": null,
      "outputs": []
    },
    {
      "cell_type": "markdown",
      "metadata": {
        "id": "YPHzP2qvQ0cy"
      },
      "source": [
        "Now if we try to run this code something strange happens:"
      ]
    },
    {
      "cell_type": "code",
      "metadata": {
        "colab": {
          "base_uri": "https://localhost:8080/",
          "height": 132
        },
        "id": "v5x4M3vdQvR_",
        "outputId": "3f106480-472b-4a6e-d4e5-79ab6b8db9ae"
      },
      "source": [
        "calc_pi_dask(10**8)"
      ],
      "execution_count": null,
      "outputs": [
        {
          "output_type": "execute_result",
          "data": {
            "text/html": [
              "<table>\n",
              "<tr>\n",
              "<td>\n",
              "<table>\n",
              "  <thead>\n",
              "    <tr><td> </td><th> Array </th><th> Chunk </th></tr>\n",
              "  </thead>\n",
              "  <tbody>\n",
              "    <tr><th> Bytes </th><td> 8 B </td> <td> 8 B </td></tr>\n",
              "    <tr><th> Shape </th><td> () </td> <td> () </td></tr>\n",
              "    <tr><th> Count </th><td> 920 Tasks </td><td> 1 Chunks </td></tr>\n",
              "    <tr><th> Type </th><td> float64 </td><td> numpy.ndarray </td></tr>\n",
              "  </tbody>\n",
              "</table>\n",
              "</td>\n",
              "<td>\n",
              "\n",
              "</td>\n",
              "</tr>\n",
              "</table>"
            ],
            "text/plain": [
              "dask.array<truediv, shape=(), dtype=float64, chunksize=(), chunktype=numpy.ndarray>"
            ]
          },
          "metadata": {},
          "execution_count": 6
        }
      ]
    },
    {
      "cell_type": "markdown",
      "metadata": {
        "id": "ACLBaFsxRRNq"
      },
      "source": [
        "We need to tell Dask explicitely that we'd like to compute our result."
      ]
    },
    {
      "cell_type": "code",
      "metadata": {
        "colab": {
          "base_uri": "https://localhost:8080/"
        },
        "id": "xVWgGPNyRXEa",
        "outputId": "f54b1d39-fae8-4d1b-9803-fcbd995d82fa"
      },
      "source": [
        "calc_pi_dask(10**8).compute()"
      ],
      "execution_count": null,
      "outputs": [
        {
          "output_type": "execute_result",
          "data": {
            "text/plain": [
              "3.14176328"
            ]
          },
          "metadata": {},
          "execution_count": 8
        }
      ]
    },
    {
      "cell_type": "markdown",
      "metadata": {
        "id": "zr52C85tTXTT"
      },
      "source": [
        "We can actually do much better than that. Let's try Numba. Numba is a **just-in-time** compiler for a subset of Python. You can have it compile parts of your Python code to machine code. For simple operations it is as easy as pasting the `@numba.jit` decorator in front of your function definition. **Use it on your first pure Python implementation of `calc_pi`.**"
      ]
    },
    {
      "cell_type": "code",
      "metadata": {
        "id": "ink8kAHQVPuY"
      },
      "source": [
        "import numba\n",
        "import random\n",
        "\n",
        "@numba.jit(nopython=True, nogil=True)\n",
        "def calc_pi_numba(N):\n",
        "    M = 0\n",
        "    for i in range(N):\n",
        "        # Simulate impact coordinates\n",
        "        x = random.uniform(-1, 1)\n",
        "        y = random.uniform(-1, 1)\n",
        "\n",
        "        # True if impact happens inside the circle\n",
        "        if x**2 + y**2 < 1.0:\n",
        "            M += 1\n",
        "    return 4 * M / N"
      ],
      "execution_count": null,
      "outputs": []
    },
    {
      "cell_type": "code",
      "metadata": {
        "colab": {
          "base_uri": "https://localhost:8080/"
        },
        "id": "Za-BUxfrVhB5",
        "outputId": "63d2019a-6c94-4ac1-e4d7-dc45dc3480ca"
      },
      "source": [
        "calc_pi_numba(10**9)"
      ],
      "execution_count": null,
      "outputs": [
        {
          "output_type": "execute_result",
          "data": {
            "text/plain": [
              "3.14167996"
            ]
          },
          "metadata": {},
          "execution_count": 4
        }
      ]
    },
    {
      "cell_type": "markdown",
      "metadata": {
        "id": "YoqbULMKXoJy"
      },
      "source": [
        "Those of you that read documentation could find out that the `numba.jit` function accepts an argument `parallel=True`, but we're not going to use that since it is much more instructive to parallelise this function with Dask's `delayed` interface."
      ]
    },
    {
      "cell_type": "code",
      "metadata": {
        "id": "3T3uXq7gZ007"
      },
      "source": [
        "from dask import delayed"
      ],
      "execution_count": null,
      "outputs": []
    },
    {
      "cell_type": "code",
      "metadata": {
        "id": "CjM4uRCNYbmB"
      },
      "source": [
        "@delayed\n",
        "def add(a, b):\n",
        "  return a + b"
      ],
      "execution_count": null,
      "outputs": []
    },
    {
      "cell_type": "code",
      "metadata": {
        "id": "RTPynhsfYgL1"
      },
      "source": [
        "x_p = add(1, 2)"
      ],
      "execution_count": null,
      "outputs": []
    },
    {
      "cell_type": "code",
      "metadata": {
        "colab": {
          "base_uri": "https://localhost:8080/"
        },
        "id": "257MMgvqYn1N",
        "outputId": "7cf474f6-a53d-4c81-c07f-8939f984c095"
      },
      "source": [
        "type(x_p)"
      ],
      "execution_count": null,
      "outputs": [
        {
          "output_type": "execute_result",
          "data": {
            "text/plain": [
              "dask.delayed.Delayed"
            ]
          },
          "metadata": {},
          "execution_count": 23
        }
      ]
    },
    {
      "cell_type": "code",
      "metadata": {
        "colab": {
          "base_uri": "https://localhost:8080/",
          "height": 190
        },
        "id": "scz19YDKZDq3",
        "outputId": "102cf3f2-e6e4-4554-bdeb-631b7d7d9fe4"
      },
      "source": [
        "x_p.visualize()"
      ],
      "execution_count": null,
      "outputs": [
        {
          "output_type": "execute_result",
          "data": {
            "image/png": "[encoded data removed]",
            "text/plain": [
              "<IPython.core.display.Image object>"
            ]
          },
          "metadata": {},
          "execution_count": 25
        }
      ]
    },
    {
      "cell_type": "code",
      "metadata": {
        "id": "WFRCAe0pZIo3"
      },
      "source": [
        "y_p = add(x_p, 3)\n",
        "z_p = add(y_p, x_p)"
      ],
      "execution_count": null,
      "outputs": []
    },
    {
      "cell_type": "code",
      "metadata": {
        "colab": {
          "base_uri": "https://localhost:8080/",
          "height": 609
        },
        "id": "Af2wGfYuZO6w",
        "outputId": "1369c453-5ac9-4a78-c5e2-54205ac035b6"
      },
      "source": [
        "z_p.visualize()"
      ],
      "execution_count": null,
      "outputs": [
        {
          "output_type": "execute_result",
          "data": {
            "image/png": "[encoded data removed]",
            "text/plain": [
              "<IPython.core.display.Image object>"
            ]
          },
          "metadata": {},
          "execution_count": 27
        }
      ]
    },
    {
      "cell_type": "code",
      "metadata": {
        "id": "sol-HwJeaBfU"
      },
      "source": [
        "@delayed\n",
        "def sqr(x):\n",
        "  return x * x\n",
        "\n",
        "@delayed\n",
        "def mean(*args):\n",
        "  return sum(args) / len(args)"
      ],
      "execution_count": null,
      "outputs": []
    },
    {
      "cell_type": "code",
      "metadata": {
        "id": "ymAZ3HHEaRY3"
      },
      "source": [
        "sample = np.random.normal(size=10)"
      ],
      "execution_count": null,
      "outputs": []
    },
    {
      "cell_type": "code",
      "metadata": {
        "id": "ifARsIVbaajJ"
      },
      "source": [
        "sqr_mean = mean(*map(sqr, sample))"
      ],
      "execution_count": null,
      "outputs": []
    },
    {
      "cell_type": "code",
      "metadata": {
        "colab": {
          "base_uri": "https://localhost:8080/",
          "height": 373
        },
        "id": "dmNyksRuacpQ",
        "outputId": "8997b8d8-dd8f-41e6-bd6e-058264450f39"
      },
      "source": [
        "sqr_mean.visualize()"
      ],
      "execution_count": null,
      "outputs": [
        {
          "output_type": "execute_result",
          "data": {
            "image/png": "[encoded data removed]",
            "text/plain": [
              "<IPython.core.display.Image object>"
            ]
          },
          "metadata": {},
          "execution_count": 12
        }
      ]
    },
    {
      "cell_type": "code",
      "metadata": {
        "colab": {
          "base_uri": "https://localhost:8080/"
        },
        "id": "ko5nduT_axD7",
        "outputId": "f00c47b5-e07d-4d7a-d55e-c75ed06b60ce"
      },
      "source": [
        "sqr_mean.compute()"
      ],
      "execution_count": null,
      "outputs": [
        {
          "output_type": "execute_result",
          "data": {
            "text/plain": [
              "0.7671437505810657"
            ]
          },
          "metadata": {},
          "execution_count": 12
        }
      ]
    },
    {
      "cell_type": "code",
      "metadata": {
        "id": "CNyrynICayMq"
      },
      "source": [
        ""
      ],
      "execution_count": null,
      "outputs": []
    }
  ]
}